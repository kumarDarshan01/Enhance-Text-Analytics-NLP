{
  "nbformat": 4,
  "nbformat_minor": 0,
  "metadata": {
    "colab": {
      "provenance": []
    },
    "kernelspec": {
      "name": "python3",
      "display_name": "Python 3"
    },
    "language_info": {
      "name": "python"
    }
  },
  "cells": [
    {
      "cell_type": "code",
      "execution_count": null,
      "metadata": {
        "id": "LOYTSwT-ymbd"
      },
      "outputs": [],
      "source": [
        "import spacy\n",
        "import pandas as pd\n",
        "from textblob import TextBlob\n",
        "import re\n",
        "import logging\n",
        "import sys\n",
        "from pathlib import Path"
      ]
    },
    {
      "cell_type": "code",
      "source": [
        "# Set up logging\n",
        "logging.basicConfig(level=logging.INFO, format='%(asctime)s - %(levelname)s - %(message)s')\n",
        "logger = logging.getLogger(__name__)"
      ],
      "metadata": {
        "id": "A7_eC2EYyuP-"
      },
      "execution_count": null,
      "outputs": []
    },
    {
      "cell_type": "code",
      "source": [
        "# Check if spaCy model is available\n",
        "try:\n",
        "    nlp = spacy.load(\"en_core_web_sm\")\n",
        "except OSError as e:\n",
        "    logger.error(\"spaCy model 'en_core_web_sm' not found. Please install it using: python -m spacy download en_core_web_sm\")\n",
        "    sys.exit(1)"
      ],
      "metadata": {
        "id": "3lPfr1FXy08o"
      },
      "execution_count": null,
      "outputs": []
    },
    {
      "cell_type": "code",
      "source": [
        "# Define sample dataset of customer support tickets\n",
        "tickets = [\n",
        "    {\"ticket_id\": 1, \"description\": \"Ugh, fine. You need a return label for that stupid product? Here it is. Just take it\"},\n",
        "    {\"ticket_id\": 2, \"description\": \"Thank you for the quick response. I'm satisfied with the service.\"},\n",
        "    {\"ticket_id\": 3, \"description\": \"The website is not loading properly. Please fix it ASAP.\"},\n",
        "    {\"ticket_id\": 4, \"description\": \"I need to return a product. Can you send me the return label?\"},\n",
        "    {\"ticket_id\": 5, \"description\": \"Ugh, seriously? This is the best you could come up with?\"}\n",
        "\n",
        "]"
      ],
      "metadata": {
        "id": "ny2XFqoxy2Dj"
      },
      "execution_count": null,
      "outputs": []
    },
    {
      "cell_type": "code",
      "source": [
        "# Define NLP processing functions\n",
        "def clean_text(text):\n",
        "    \"\"\"\n",
        "    Cleans input text by converting to lowercase, removing punctuation and stop words,\n",
        "    and lemmatizing words using spaCy.\n",
        "    \"\"\"\n",
        "    try:\n",
        "        if not isinstance(text, str):\n",
        "            logger.warning(f\"Invalid text input: {text}. Returning empty string.\")\n",
        "            return \"\"\n",
        "        doc = nlp(text.lower())\n",
        "        cleaned = [token.lemma_ for token in doc if not token.is_stop and not token.is_punct]\n",
        "        return \" \".join(cleaned)\n",
        "    except Exception as e:\n",
        "        logger.error(f\"Error cleaning text: {str(e)}\")\n",
        "        return \"\""
      ],
      "metadata": {
        "id": "HSyqLTRiy5YI"
      },
      "execution_count": null,
      "outputs": []
    },
    {
      "cell_type": "code",
      "source": [
        "def extract_entities(text):\n",
        "    \"\"\"\n",
        "    Extracts named entities from text using spaCy's NER.\n",
        "    Returns a list of tuples (entity text, entity label).\n",
        "    \"\"\"\n",
        "    try:\n",
        "        if not isinstance(text, str):\n",
        "            logger.warning(f\"Invalid text input for entity extraction: {text}. Returning empty list.\")\n",
        "            return []\n",
        "        doc = nlp(text)\n",
        "        entities = [(ent.text, ent.label_) for ent in doc.ents]\n",
        "        return entities\n",
        "    except Exception as e:\n",
        "        logger.error(f\"Error extracting entities: {str(e)}\")\n",
        "        return []"
      ],
      "metadata": {
        "id": "vr6rBqyey9tV"
      },
      "execution_count": null,
      "outputs": []
    },
    {
      "cell_type": "code",
      "source": [
        "def get_sentiment(text):\n",
        "    \"\"\"\n",
        "    Computes sentiment polarity of text using TextBlob.\n",
        "    Returns a float between -1 (negative) and 1 (positive).\n",
        "    \"\"\"\n",
        "    try:\n",
        "        if not isinstance(text, str):\n",
        "            logger.warning(f\"Invalid text input for sentiment analysis: {text}. Returning 0.0.\")\n",
        "            return 0.0\n",
        "        blob = TextBlob(text)\n",
        "        return blob.sentiment.polarity\n",
        "    except Exception as e:\n",
        "        logger.error(f\"Error computing sentiment: {str(e)}\")\n",
        "        return 0.0"
      ],
      "metadata": {
        "id": "TJ4kWz1My_UV"
      },
      "execution_count": null,
      "outputs": []
    },
    {
      "cell_type": "code",
      "source": [
        "def get_sentiment_label(score):\n",
        "    \"\"\"\n",
        "    Converts sentiment score to a label (Positive, Negative, Neutral).\n",
        "    \"\"\"\n",
        "    try:\n",
        "        if score > 0:\n",
        "            return \"Positive\"\n",
        "        elif score < 0:\n",
        "            return \"Negative\"\n",
        "        else:\n",
        "            return \"Neutral\"\n",
        "    except Exception as e:\n",
        "        logger.error(f\"Error labeling sentiment: {str(e)}\")\n",
        "        return \"Neutral\"\n"
      ],
      "metadata": {
        "id": "Ed76Bsa8zCmF"
      },
      "execution_count": null,
      "outputs": []
    },
    {
      "cell_type": "code",
      "source": [
        "def extract_order_number(text):\n",
        "    \"\"\"\n",
        "    Extracts order numbers from text using a regular expression.\n",
        "    Assumes order numbers are in the format # followed by digits.\n",
        "    Returns the order number if found, otherwise None.\n",
        "    \"\"\"\n",
        "    try:\n",
        "        if not isinstance(text, str):\n",
        "            logger.warning(f\"Invalid text input for order number extraction: {text}. Returning None.\")\n",
        "            return None\n",
        "        pattern = r\"#(\\d+)\"\n",
        "        match = re.search(pattern, text)\n",
        "        return match.group(1) if match else None\n",
        "    except Exception as e:\n",
        "        logger.error(f\"Error extracting order number: {str(e)}\")\n",
        "        return None"
      ],
      "metadata": {
        "id": "N6rsSXO0zIcc"
      },
      "execution_count": null,
      "outputs": []
    },
    {
      "cell_type": "code",
      "source": [
        "def main():\n",
        "    \"\"\"\n",
        "    Main function to process the dataset and enhance text analytics data quality.\n",
        "    \"\"\"\n",
        "    try:\n",
        "        # Create a pandas DataFrame from the sample dataset\n",
        "        logger.info(\"Creating DataFrame from sample dataset\")\n",
        "        df = pd.DataFrame(tickets)\n",
        "\n",
        "        # Apply NLP functions to enhance the dataset\n",
        "        logger.info(\"Applying NLP processing to dataset\")\n",
        "        df['cleaned_description'] = df['description'].apply(clean_text)\n",
        "        df['entities'] = df['description'].apply(extract_entities)\n",
        "        df['sentiment_score'] = df['description'].apply(get_sentiment)\n",
        "        df['sentiment_label'] = df['sentiment_score'].apply(get_sentiment_label)\n",
        "        df['order_number'] = df['description'].apply(extract_order_number)\n",
        "\n",
        "        # Display the enriched dataset\n",
        "        logger.info(\"Displaying enriched dataset\")\n",
        "        print(\"\\nEnriched Dataset:\")\n",
        "        print(df)\n",
        "\n",
        "        # Save the enriched dataset to a CSV file\n",
        "        output_path = Path(\"enriched_tickets.csv\")\n",
        "        logger.info(f\"Saving enriched dataset to {output_path}\")\n",
        "        df.to_csv(output_path, index=False)\n",
        "        logger.info(f\"Dataset successfully saved to {output_path}\")\n",
        "\n",
        "    except Exception as e:\n",
        "        logger.error(f\"Error in main processing: {str(e)}\")\n",
        "        sys.exit(1)\n",
        "\n",
        "if __name__ == \"__main__\":\n",
        "    main()"
      ],
      "metadata": {
        "colab": {
          "base_uri": "https://localhost:8080/"
        },
        "id": "9QdKA0GzzLFw",
        "outputId": "683883e6-d0fd-4819-e592-1ff272963051"
      },
      "execution_count": null,
      "outputs": [
        {
          "output_type": "stream",
          "name": "stdout",
          "text": [
            "\n",
            "Enriched Dataset:\n",
            "   ticket_id                                        description  \\\n",
            "0          1  Ugh, fine. You need a return label for that st...   \n",
            "1          2  Thank you for the quick response. I'm satisfie...   \n",
            "2          3  The website is not loading properly. Please fi...   \n",
            "3          4  I need to return a product. Can you send me th...   \n",
            "4          5  Ugh, seriously? This is the best you could com...   \n",
            "\n",
            "                         cleaned_description       entities  sentiment_score  \\\n",
            "0  ugh fine need return label stupid product             []        -0.191667   \n",
            "1     thank quick response satisfied service             []         0.416667   \n",
            "2             website load properly fix asap  [(ASAP, ORG)]         0.000000   \n",
            "3      need return product send return label             []         0.000000   \n",
            "4                    ugh seriously good come             []         0.333333   \n",
            "\n",
            "  sentiment_label order_number  \n",
            "0        Negative         None  \n",
            "1        Positive         None  \n",
            "2         Neutral         None  \n",
            "3         Neutral         None  \n",
            "4        Positive         None  \n"
          ]
        }
      ]
    }
  ]
}